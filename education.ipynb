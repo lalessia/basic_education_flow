{
 "cells": [
  {
   "cell_type": "markdown",
   "metadata": {},
   "source": [
    "Il presente progetto emula la gestione per la registrazione, la visualizzazione e l'accesso a 4 corsi extracurriculari da parte di un istituto superiore da parte di 60 studenti di età compresa tra i 14 e 20 anni che ne hanno richiesto la partecipazione.\n",
    "\n",
    "Per ogni studente saranno resi disponibili i seguenti dati:\n",
    "- corso (['Data Analyst', 'Cinema&Teatro', 'Economia Finanziaria', 'Yoga&Meditazione'])\n",
    "- età ([14:20])\n",
    "- sesso (M/F)\n",
    "- motivo dell'adesione (['Curiosità verso il corso', 'Interesse Lavorativo', 'Crediti Curriculari', 'Perché frequentato da amici', 'Altro'])\n",
    "- Se seguirà il corso da remoto o fisicamente\n"
   ]
  },
  {
   "cell_type": "markdown",
   "metadata": {},
   "source": [
    "# Descrizione del Progetto\n",
    "Il presente progetto emula la gestione per la registrazione, la visualizzazione e l'accesso a 4 corsi extracurriculari da parte di un istituto superiore, con la partecipazione di 60 studenti di età compresa tra i 14 e i 20 anni."
   ]
  },
  {
   "cell_type": "markdown",
   "metadata": {},
   "source": [
    "### Dati degli Studenti\n",
    "\n",
    "Per ogni studente, vengono registrati e gestiti i seguenti dati:\n",
    "\n",
    "- <b>Corso</b>: Il corso extracurriculare scelto, tra i seguenti:\n",
    "    1. Data Analyst\n",
    "    2. Cinema&Teatro\n",
    "    3. Economia Finanziaria\n",
    "    4. Yoga&Meditazione\n",
    "- <b>Età</b>: Un valore compreso tra 14 e 20 anni.\n",
    "- <b>Sesso</b>: M (Maschio) o F (Femmina).\n",
    "- <b>Motivo dell'adesione</b>: Il motivo per cui lo studente ha scelto di partecipare al corso, tra:\n",
    "    1. Curiosità verso il corso\n",
    "    2. Interesse Lavorativo\n",
    "    3. Crediti Curriculari\n",
    "    4. Perché frequentato da amici\n",
    "    5. Altro\n",
    "- <b>Modalità di frequenza</b>: Se lo studente seguirà il corso da remoto o fisicamente.\n"
   ]
  },
  {
   "cell_type": "markdown",
   "metadata": {},
   "source": [
    "### Funzionalità del Progetto\n",
    "\n",
    "1. Registrazione degli studenti:\n",
    "\n",
    "    - Aggiunta di nuovi studenti con validazione dei dati inseriti.\n",
    "    - Registrazione casuale di un numero specificato di studenti.\n",
    "2. Visualizzazione degli studenti:\n",
    "\n",
    "    - Visualizzazione dettagliata di tutti gli studenti registrati.\n",
    "    - Ricerca del numero di studenti per corso che frequenteranno fisicamente (al fine della gestione dello spazio degli ambienti che accoglieranno i corsi)\n",
    "    \n",
    "3. Statistiche sugli studenti:\n",
    "\n",
    "    - Numero totale di studenti registrati.\n",
    "    - Numero di studenti per corso.\n",
    "    - Numero di studenti per sesso.\n",
    "    - Età media degli studenti per corso.\n",
    "    - Numero di studenti che seguono i corsi da remoto rispetto a quelli che seguono in presenza.\n",
    "\n",
    "4. Filtraggio avanzato:\n",
    "\n",
    "    - Ricerca dinamica degli studenti in base a vari parametri (es. sesso, corso, età, motivo dell'adesione, modalità di frequenza).\n",
    "\n"
   ]
  },
  {
   "cell_type": "code",
   "execution_count": 15,
   "metadata": {},
   "outputs": [],
   "source": [
    "import random\n",
    "from collections import defaultdict"
   ]
  },
  {
   "cell_type": "code",
   "execution_count": 2,
   "metadata": {},
   "outputs": [],
   "source": [
    "courses = ['Data Analyst', 'Cinema&Teatro', 'Economia Finanziaria', 'Yoga&Meditazione']\n",
    "ages = list(range(14, 22))\n",
    "sexes = ['M', 'F']\n",
    "reasons = ['Curiosità/Hobby', 'Interesse Lavorativo', 'Crediti Curriculari', 'Perché frequentato da amici', 'Altro']\n",
    "from_remotes = [True, False]"
   ]
  },
  {
   "cell_type": "markdown",
   "metadata": {},
   "source": [
    "# Funzionalità base"
   ]
  },
  {
   "cell_type": "markdown",
   "metadata": {},
   "source": [
    "### Registrazione degli studenti"
   ]
  },
  {
   "cell_type": "markdown",
   "metadata": {},
   "source": [
    "Aggiunta di nuovi studenti con validazione dei dati inseriti"
   ]
  },
  {
   "cell_type": "code",
   "execution_count": 3,
   "metadata": {},
   "outputs": [],
   "source": [
    "registrations = []"
   ]
  },
  {
   "cell_type": "code",
   "execution_count": 6,
   "metadata": {},
   "outputs": [
    {
     "name": "stdout",
     "output_type": "stream",
     "text": [
      "Studente registrato correttamente: {'course': 'Data Analyst', 'age': 18, 'sex': 'M', 'reason': 'Curiosità/Hobby', 'from_remote': True}\n",
      "\n",
      "Studente registrato correttamente: {'course': 'Economia Finanziaria', 'age': 20, 'sex': 'F', 'reason': 'Interesse Lavorativo', 'from_remote': False}\n",
      "\n"
     ]
    }
   ],
   "source": [
    "# addition of new students with validation of the data enteredregister students for courses\n",
    "def add_student(course, age, sex, reason, from_remote):\n",
    "    if course not in courses:\n",
    "        print(f\"Errore: '{course}' non è un corso valido.\")\n",
    "        return\n",
    "    if age not in ages:\n",
    "        print(f\"Errore: '{age}' non è un'età valida.\")\n",
    "        return\n",
    "    if sex not in sexes:\n",
    "        print(f\"Errore: '{sex}' non è un sesso valido.\")\n",
    "        return\n",
    "    if reason not in reasons:\n",
    "        print(f\"Errore: '{reason}' non è un motivo valido.\")\n",
    "        return\n",
    "    if from_remote not in from_remotes:\n",
    "        print(f\"Errore: '{from_remote}' non è un valore valido per 'from_remote'.\")\n",
    "        return\n",
    "    \n",
    "    \n",
    "    student = {\n",
    "        'course': course,\n",
    "        'age': age,\n",
    "        'sex': sex,\n",
    "        'reason': reason,\n",
    "        'from_remote': from_remote\n",
    "    }\n",
    "    registrations.append(student)\n",
    "    print(f\"Studente registrato correttamente: {student}\")\n",
    "    print()\n",
    "\n",
    "# examples to use\n",
    "add_student('Data Analyst', 18, 'M', 'Curiosità/Hobby', True)\n",
    "add_student('Economia Finanziaria', 20, 'F', 'Interesse Lavorativo', False)"
   ]
  },
  {
   "cell_type": "markdown",
   "metadata": {},
   "source": [
    "Registrazione casuale di un numero specificato di studenti"
   ]
  },
  {
   "cell_type": "code",
   "execution_count": 7,
   "metadata": {},
   "outputs": [
    {
     "name": "stdout",
     "output_type": "stream",
     "text": [
      "Data Analyst\n",
      "Studente registrato correttamente: {'course': 'Data Analyst', 'age': 16, 'sex': 'M', 'reason': 'Interesse Lavorativo', 'from_remote': True}\n",
      "\n",
      "Economia Finanziaria\n",
      "Studente registrato correttamente: {'course': 'Economia Finanziaria', 'age': 18, 'sex': 'M', 'reason': 'Interesse Lavorativo', 'from_remote': True}\n",
      "\n",
      "Cinema&Teatro\n",
      "Studente registrato correttamente: {'course': 'Cinema&Teatro', 'age': 18, 'sex': 'M', 'reason': 'Perché frequentato da amici', 'from_remote': False}\n",
      "\n",
      "Economia Finanziaria\n",
      "Studente registrato correttamente: {'course': 'Economia Finanziaria', 'age': 15, 'sex': 'M', 'reason': 'Curiosità/Hobby', 'from_remote': False}\n",
      "\n",
      "Yoga&Meditazione\n",
      "Studente registrato correttamente: {'course': 'Yoga&Meditazione', 'age': 15, 'sex': 'M', 'reason': 'Crediti Curriculari', 'from_remote': True}\n",
      "\n",
      "Economia Finanziaria\n",
      "Studente registrato correttamente: {'course': 'Economia Finanziaria', 'age': 20, 'sex': 'M', 'reason': 'Interesse Lavorativo', 'from_remote': False}\n",
      "\n",
      "Yoga&Meditazione\n",
      "Studente registrato correttamente: {'course': 'Yoga&Meditazione', 'age': 15, 'sex': 'F', 'reason': 'Altro', 'from_remote': True}\n",
      "\n",
      "Economia Finanziaria\n",
      "Studente registrato correttamente: {'course': 'Economia Finanziaria', 'age': 20, 'sex': 'F', 'reason': 'Crediti Curriculari', 'from_remote': False}\n",
      "\n",
      "Data Analyst\n",
      "Studente registrato correttamente: {'course': 'Data Analyst', 'age': 14, 'sex': 'M', 'reason': 'Interesse Lavorativo', 'from_remote': False}\n",
      "\n",
      "Cinema&Teatro\n",
      "Studente registrato correttamente: {'course': 'Cinema&Teatro', 'age': 15, 'sex': 'M', 'reason': 'Perché frequentato da amici', 'from_remote': False}\n",
      "\n"
     ]
    }
   ],
   "source": [
    "# in the following method, 60 randomly generated students will be created, in order to subsequently carry out statistics\n",
    "def student_casual_registration(n_student):\n",
    "    \n",
    "    for _ in range(n_student):\n",
    "        course = random.choice(courses)\n",
    "        age = random.choice(ages)\n",
    "        sex = random.choice(sexes)\n",
    "        reason = random.choice(reasons)\n",
    "        from_remote = random.choice(from_remotes)\n",
    "        \n",
    "        add_student(course, age, sex, reason, from_remote)\n",
    "        \n",
    "student_casual_registration(n_student = 60)"
   ]
  },
  {
   "cell_type": "markdown",
   "metadata": {},
   "source": [
    "### Visualizzazione di tutti gli elementi"
   ]
  },
  {
   "cell_type": "markdown",
   "metadata": {},
   "source": [
    "Visualizzazione dettagliata di tutti gli studenti registrati"
   ]
  },
  {
   "cell_type": "code",
   "execution_count": 10,
   "metadata": {},
   "outputs": [],
   "source": [
    "def view_students(students):\n",
    "    \n",
    "    for i, student in enumerate(students, 1):\n",
    "        print(f\"Studente {i}:\")\n",
    "        print(f\"\\tCorso: {student['course']}\")\n",
    "        print(f\"\\tEtà: {student['age']}\")\n",
    "        print(f\"\\tSesso: {student['sex']}\")\n",
    "        print(f\"\\tMotivo: {student['reason']}\")\n",
    "        print(f\"\\tDa Remoto: {student['from_remote']}\")"
   ]
  },
  {
   "cell_type": "code",
   "execution_count": 11,
   "metadata": {},
   "outputs": [
    {
     "name": "stdout",
     "output_type": "stream",
     "text": [
      "Studente 1:\n",
      "\tCorso: Data Analyst\n",
      "\tEtà: 18\n",
      "\tSesso: M\n",
      "\tMotivo: Curiosità/Hobby\n",
      "\tDa Remoto: True\n",
      "Studente 2:\n",
      "\tCorso: Economia Finanziaria\n",
      "\tEtà: 20\n",
      "\tSesso: F\n",
      "\tMotivo: Interesse Lavorativo\n",
      "\tDa Remoto: False\n",
      "Studente 3:\n",
      "\tCorso: Data Analyst\n",
      "\tEtà: 18\n",
      "\tSesso: M\n",
      "\tMotivo: Curiosità/Hobby\n",
      "\tDa Remoto: True\n",
      "Studente 4:\n",
      "\tCorso: Economia Finanziaria\n",
      "\tEtà: 20\n",
      "\tSesso: F\n",
      "\tMotivo: Interesse Lavorativo\n",
      "\tDa Remoto: False\n",
      "Studente 5:\n",
      "\tCorso: Data Analyst\n",
      "\tEtà: 16\n",
      "\tSesso: M\n",
      "\tMotivo: Interesse Lavorativo\n",
      "\tDa Remoto: True\n",
      "Studente 6:\n",
      "\tCorso: Economia Finanziaria\n",
      "\tEtà: 18\n",
      "\tSesso: M\n",
      "\tMotivo: Interesse Lavorativo\n",
      "\tDa Remoto: True\n",
      "Studente 7:\n",
      "\tCorso: Cinema&Teatro\n",
      "\tEtà: 18\n",
      "\tSesso: M\n",
      "\tMotivo: Perché frequentato da amici\n",
      "\tDa Remoto: False\n",
      "Studente 8:\n",
      "\tCorso: Economia Finanziaria\n",
      "\tEtà: 15\n",
      "\tSesso: M\n",
      "\tMotivo: Curiosità/Hobby\n",
      "\tDa Remoto: False\n",
      "Studente 9:\n",
      "\tCorso: Yoga&Meditazione\n",
      "\tEtà: 15\n",
      "\tSesso: M\n",
      "\tMotivo: Crediti Curriculari\n",
      "\tDa Remoto: True\n",
      "Studente 10:\n",
      "\tCorso: Economia Finanziaria\n",
      "\tEtà: 20\n",
      "\tSesso: M\n",
      "\tMotivo: Interesse Lavorativo\n",
      "\tDa Remoto: False\n",
      "Studente 11:\n",
      "\tCorso: Yoga&Meditazione\n",
      "\tEtà: 15\n",
      "\tSesso: F\n",
      "\tMotivo: Altro\n",
      "\tDa Remoto: True\n",
      "Studente 12:\n",
      "\tCorso: Economia Finanziaria\n",
      "\tEtà: 20\n",
      "\tSesso: F\n",
      "\tMotivo: Crediti Curriculari\n",
      "\tDa Remoto: False\n",
      "Studente 13:\n",
      "\tCorso: Data Analyst\n",
      "\tEtà: 14\n",
      "\tSesso: M\n",
      "\tMotivo: Interesse Lavorativo\n",
      "\tDa Remoto: False\n",
      "Studente 14:\n",
      "\tCorso: Cinema&Teatro\n",
      "\tEtà: 15\n",
      "\tSesso: M\n",
      "\tMotivo: Perché frequentato da amici\n",
      "\tDa Remoto: False\n"
     ]
    }
   ],
   "source": [
    "view_students(registrations)"
   ]
  },
  {
   "cell_type": "code",
   "execution_count": 12,
   "metadata": {},
   "outputs": [
    {
     "name": "stdout",
     "output_type": "stream",
     "text": [
      "{'course': 'Data Analyst', 'age': 18, 'sex': 'M', 'reason': 'Curiosità/Hobby', 'from_remote': True}\n",
      "{'course': 'Economia Finanziaria', 'age': 20, 'sex': 'F', 'reason': 'Interesse Lavorativo', 'from_remote': False}\n",
      "{'course': 'Data Analyst', 'age': 18, 'sex': 'M', 'reason': 'Curiosità/Hobby', 'from_remote': True}\n",
      "{'course': 'Economia Finanziaria', 'age': 20, 'sex': 'F', 'reason': 'Interesse Lavorativo', 'from_remote': False}\n",
      "{'course': 'Data Analyst', 'age': 16, 'sex': 'M', 'reason': 'Interesse Lavorativo', 'from_remote': True}\n",
      "{'course': 'Economia Finanziaria', 'age': 18, 'sex': 'M', 'reason': 'Interesse Lavorativo', 'from_remote': True}\n",
      "{'course': 'Cinema&Teatro', 'age': 18, 'sex': 'M', 'reason': 'Perché frequentato da amici', 'from_remote': False}\n",
      "{'course': 'Economia Finanziaria', 'age': 15, 'sex': 'M', 'reason': 'Curiosità/Hobby', 'from_remote': False}\n",
      "{'course': 'Yoga&Meditazione', 'age': 15, 'sex': 'M', 'reason': 'Crediti Curriculari', 'from_remote': True}\n",
      "{'course': 'Economia Finanziaria', 'age': 20, 'sex': 'M', 'reason': 'Interesse Lavorativo', 'from_remote': False}\n",
      "{'course': 'Yoga&Meditazione', 'age': 15, 'sex': 'F', 'reason': 'Altro', 'from_remote': True}\n",
      "{'course': 'Economia Finanziaria', 'age': 20, 'sex': 'F', 'reason': 'Crediti Curriculari', 'from_remote': False}\n",
      "{'course': 'Data Analyst', 'age': 14, 'sex': 'M', 'reason': 'Interesse Lavorativo', 'from_remote': False}\n",
      "{'course': 'Cinema&Teatro', 'age': 15, 'sex': 'M', 'reason': 'Perché frequentato da amici', 'from_remote': False}\n"
     ]
    }
   ],
   "source": [
    "# compact display\n",
    "for student in registrations:\n",
    "    print(student)"
   ]
  },
  {
   "cell_type": "markdown",
   "metadata": {},
   "source": [
    "Ricerca del numero di studenti per corso che frequenteranno fisicamente (al fine della gestione dello spazio degli ambienti che accoglieranno i corsi)"
   ]
  },
  {
   "cell_type": "code",
   "execution_count": null,
   "metadata": {},
   "outputs": [],
   "source": []
  },
  {
   "cell_type": "markdown",
   "metadata": {},
   "source": []
  },
  {
   "cell_type": "code",
   "execution_count": 13,
   "metadata": {},
   "outputs": [],
   "source": []
  },
  {
   "cell_type": "code",
   "execution_count": 14,
   "metadata": {},
   "outputs": [
    {
     "name": "stdout",
     "output_type": "stream",
     "text": [
      "Risultati della ricerca: [{'course': 'Data Analyst', 'age': 18, 'sex': 'M', 'reason': 'Curiosità/Hobby', 'from_remote': True}, {'course': 'Data Analyst', 'age': 18, 'sex': 'M', 'reason': 'Curiosità/Hobby', 'from_remote': True}, {'course': 'Data Analyst', 'age': 16, 'sex': 'M', 'reason': 'Interesse Lavorativo', 'from_remote': True}, {'course': 'Data Analyst', 'age': 14, 'sex': 'M', 'reason': 'Interesse Lavorativo', 'from_remote': False}]\n"
     ]
    }
   ],
   "source": []
  },
  {
   "cell_type": "markdown",
   "metadata": {},
   "source": [
    "# Funzionalità aggiuntive"
   ]
  },
  {
   "cell_type": "markdown",
   "metadata": {},
   "source": [
    "### Statistiche sugli elementi\n",
    "\n",
    "Aggiungere una funzione che generi statistiche sugli elementi presenti nella collezione. Questa funzione può fornire insight utili come il conteggio totale degli elementi, la distribuzione degli elementi per una certa categoria o attributo (per esempio, quante destinazioni per ogni Paese nel caso del settore Travel), o anche trovare l'elemento più frequente/recente in base a un certo criterio."
   ]
  },
  {
   "cell_type": "markdown",
   "metadata": {},
   "source": [
    "- numero iscritti per corso e corso preferito\n",
    "- età media per ogni corso\n",
    "- presenza maschile e femminile per ogni corso\n",
    "- analisi delle adesioni ai corsi"
   ]
  },
  {
   "cell_type": "code",
   "execution_count": 16,
   "metadata": {},
   "outputs": [],
   "source": [
    "# Funzione per generare statistiche sugli elementi nella collezione\n",
    "def generate_statistics():\n",
    "    total_students = len(registrations)\n",
    "    students_by_course = defaultdict(int)\n",
    "    students_by_sex = defaultdict(int)\n",
    "    age_sum_by_course = defaultdict(int)\n",
    "    student_count_by_course = defaultdict(int)\n",
    "    remote_count = 0\n",
    "    in_person_count = 0\n",
    "    \n",
    "    for student in registrations:\n",
    "        students_by_course[student['course']] += 1\n",
    "        students_by_sex[student['sex']] += 1\n",
    "        age_sum_by_course[student['course']] += student['age']\n",
    "        student_count_by_course[student['course']] += 1\n",
    "        if student['from_remote']:\n",
    "            remote_count += 1\n",
    "        else:\n",
    "            in_person_count += 1\n",
    "    \n",
    "    average_age_by_course = {course: (age_sum_by_course[course] / student_count_by_course[course])\n",
    "                             for course in student_count_by_course}\n",
    "    \n",
    "    print(f\"Numero totale di studenti: {total_students}\")\n",
    "    print(\"Numero di studenti per corso:\")\n",
    "    for course, count in students_by_course.items():\n",
    "        print(f\"  {course}: {count}\")\n",
    "    \n",
    "    print(\"Numero di studenti per sesso:\")\n",
    "    for sex, count in students_by_sex.items():\n",
    "        print(f\"  {sex}: {count}\")\n",
    "    \n",
    "    print(\"Età media degli studenti per corso (arrotondata alla prima cifra decimale):\")\n",
    "    for course, avg_age in average_age_by_course.items():\n",
    "        print(f\"  {course}: {round(avg_age, 1)}\")\n",
    "    \n",
    "    print(f\"Numero di studenti che seguono da remoto: {remote_count}\")\n",
    "    print(f\"Numero di studenti che seguono in presenza: {in_person_count}\")\n"
   ]
  },
  {
   "cell_type": "code",
   "execution_count": 17,
   "metadata": {},
   "outputs": [
    {
     "name": "stdout",
     "output_type": "stream",
     "text": [
      "Numero totale di studenti: 14\n",
      "Numero di studenti per corso:\n",
      "  Data Analyst: 4\n",
      "  Economia Finanziaria: 6\n",
      "  Cinema&Teatro: 2\n",
      "  Yoga&Meditazione: 2\n",
      "Numero di studenti per sesso:\n",
      "  M: 10\n",
      "  F: 4\n",
      "Età media degli studenti per corso (arrotondata alla prima cifra decimale):\n",
      "  Data Analyst: 16.5\n",
      "  Economia Finanziaria: 18.8\n",
      "  Cinema&Teatro: 16.5\n",
      "  Yoga&Meditazione: 15.0\n",
      "Numero di studenti che seguono da remoto: 6\n",
      "Numero di studenti che seguono in presenza: 8\n"
     ]
    }
   ],
   "source": [
    "generate_statistics()"
   ]
  },
  {
   "cell_type": "markdown",
   "metadata": {},
   "source": [
    "### Ricerca di elementi\n",
    "\n",
    "Cercare e visualizzare elementi dalla lista basandosi su uno o più attributi"
   ]
  },
  {
   "cell_type": "code",
   "execution_count": null,
   "metadata": {},
   "outputs": [],
   "source": [
    "def get_element_by_parameters(sex=None, course=None, age=None, reason=None, from_remote=None):\n",
    "    results = registrations\n",
    "    if sex is not None:\n",
    "        results = [student for student in results if student['sex'] == sex]\n",
    "    if course is not None:\n",
    "        results = [student for student in results if student['course'] == course]\n",
    "    if age is not None:\n",
    "        results = [student for student in results if student['age'] == age]\n",
    "    if reason is not None:\n",
    "        results = [student for student in results if student['reason'] == reason]\n",
    "    if from_remote is not None:\n",
    "        results = [student for student in results if student['from_remote'] == from_remote]\n",
    "    \n",
    "    return results"
   ]
  },
  {
   "cell_type": "code",
   "execution_count": null,
   "metadata": {},
   "outputs": [],
   "source": [
    "# Esempio di ricerca\n",
    "filtered_students = get_element_by_parameters(sex='M', course='Data Analyst')\n",
    "print(f\"Risultati della ricerca: {filtered_students}\")"
   ]
  }
 ],
 "metadata": {
  "kernelspec": {
   "display_name": "venv",
   "language": "python",
   "name": "python3"
  },
  "language_info": {
   "codemirror_mode": {
    "name": "ipython",
    "version": 3
   },
   "file_extension": ".py",
   "mimetype": "text/x-python",
   "name": "python",
   "nbconvert_exporter": "python",
   "pygments_lexer": "ipython3",
   "version": "3.12.3"
  }
 },
 "nbformat": 4,
 "nbformat_minor": 2
}

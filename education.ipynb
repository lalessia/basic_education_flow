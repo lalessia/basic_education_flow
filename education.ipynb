{
 "cells": [
  {
   "cell_type": "markdown",
   "metadata": {},
   "source": [
    "Il presente progetto emula la gestione per l'accesso a 4 corsi extracurriculari di un istituto superiore da parte di 60 studenti di età compresa tra i 14 e 20 anni che ne hanno richiesto la partecipazione.\n",
    "\n",
    "Per ogni studente saranno resi disponibili i seguenti dati:\n",
    "- corso (['Data Analyst', 'Cinema&Teatro', 'Economia Finanziaria', 'Yoga&Meditazione'])\n",
    "- età ([14:20])\n",
    "- sesso (M/F)\n",
    "- motivo dell'adesione (['Curiosità verso il corso', 'Interesse Lavorativo', 'Crediti Curriculari', 'Perché frequentato da amici', 'Altro'])\n",
    "- Se seguirà il corso da remoto o fisicamente\n"
   ]
  },
  {
   "cell_type": "code",
   "execution_count": 1,
   "metadata": {},
   "outputs": [],
   "source": [
    "import random"
   ]
  },
  {
   "cell_type": "code",
   "execution_count": 2,
   "metadata": {},
   "outputs": [],
   "source": [
    "courses = ['Data Analyst', 'Cinema&Teatro', 'Economia Finanziaria', 'Yoga&Meditazione']\n",
    "age = list(range(14, 21))\n",
    "sex = ['M', 'F']\n",
    "reason = ['Curiosità/Hobby', 'Interesse Lavorativo', 'Crediti Curriculari', 'Perché frequentato da amici', 'Altro']\n",
    "from_remote = [True, False]\n",
    "\n",
    "# livello di esperienza (1 base, 2 intermedio, 3 avanzato)\n"
   ]
  },
  {
   "cell_type": "markdown",
   "metadata": {},
   "source": [
    "# Funzionalità base"
   ]
  },
  {
   "cell_type": "markdown",
   "metadata": {},
   "source": [
    "Il metodo student_registration(), emula la registrazione di n studenti, con dati casuali, che sono registrati ai vari corsi."
   ]
  },
  {
   "cell_type": "markdown",
   "metadata": {},
   "source": [
    "### Registrazione di un nuovo elemento"
   ]
  },
  {
   "cell_type": "code",
   "execution_count": 3,
   "metadata": {},
   "outputs": [],
   "source": [
    "n_student = 10"
   ]
  },
  {
   "cell_type": "code",
   "execution_count": 4,
   "metadata": {},
   "outputs": [],
   "source": [
    "def student_registration(n_student):\n",
    "    registrations = []\n",
    "    \n",
    "    for _ in range(n_student):\n",
    "        student = {\n",
    "            'course': random.choice(courses),\n",
    "            'age': random.choice(age),\n",
    "            'sex': random.choice(sex),\n",
    "            'reason': random.choice(reason),\n",
    "            'from_remote' : random.choice(from_remote)\n",
    "        }\n",
    "        registrations.append(student)\n",
    "    \n",
    "    return registrations\n",
    "\n",
    "registrations = student_registration(n_student)"
   ]
  },
  {
   "cell_type": "markdown",
   "metadata": {},
   "source": [
    "### Visualizzazione di tutti gli elementi"
   ]
  },
  {
   "cell_type": "code",
   "execution_count": 5,
   "metadata": {},
   "outputs": [],
   "source": [
    "def view_students(students):\n",
    "    \n",
    "    for i, student in enumerate(students, 1):\n",
    "        print(f\"Studente {i}:\")\n",
    "        print(f\"\\tCorso: {student['course']}\")\n",
    "        print(f\"\\tEtà: {student['age']}\")\n",
    "        print(f\"\\tSesso: {student['sex']}\")\n",
    "        print(f\"\\tMotivo: {student['reason']}\")\n",
    "        print(f\"\\tDa Remoto: {student['from_remote']}\")"
   ]
  },
  {
   "cell_type": "code",
   "execution_count": 6,
   "metadata": {},
   "outputs": [
    {
     "name": "stdout",
     "output_type": "stream",
     "text": [
      "Studente 1:\n",
      "\tCorso: Cinema&Teatro\n",
      "\tEtà: 20\n",
      "\tSesso: F\n",
      "\tMotivo: Crediti Curriculari\n",
      "\tDa Remoto: False\n",
      "Studente 2:\n",
      "\tCorso: Yoga&Meditazione\n",
      "\tEtà: 20\n",
      "\tSesso: F\n",
      "\tMotivo: Interesse Lavorativo\n",
      "\tDa Remoto: False\n",
      "Studente 3:\n",
      "\tCorso: Economia Finanziaria\n",
      "\tEtà: 17\n",
      "\tSesso: F\n",
      "\tMotivo: Curiosità/Hobby\n",
      "\tDa Remoto: False\n",
      "Studente 4:\n",
      "\tCorso: Economia Finanziaria\n",
      "\tEtà: 15\n",
      "\tSesso: F\n",
      "\tMotivo: Altro\n",
      "\tDa Remoto: False\n",
      "Studente 5:\n",
      "\tCorso: Economia Finanziaria\n",
      "\tEtà: 16\n",
      "\tSesso: M\n",
      "\tMotivo: Altro\n",
      "\tDa Remoto: True\n",
      "Studente 6:\n",
      "\tCorso: Cinema&Teatro\n",
      "\tEtà: 18\n",
      "\tSesso: M\n",
      "\tMotivo: Crediti Curriculari\n",
      "\tDa Remoto: False\n",
      "Studente 7:\n",
      "\tCorso: Yoga&Meditazione\n",
      "\tEtà: 17\n",
      "\tSesso: M\n",
      "\tMotivo: Crediti Curriculari\n",
      "\tDa Remoto: False\n",
      "Studente 8:\n",
      "\tCorso: Cinema&Teatro\n",
      "\tEtà: 15\n",
      "\tSesso: M\n",
      "\tMotivo: Crediti Curriculari\n",
      "\tDa Remoto: False\n",
      "Studente 9:\n",
      "\tCorso: Data Analyst\n",
      "\tEtà: 16\n",
      "\tSesso: F\n",
      "\tMotivo: Curiosità/Hobby\n",
      "\tDa Remoto: True\n",
      "Studente 10:\n",
      "\tCorso: Data Analyst\n",
      "\tEtà: 17\n",
      "\tSesso: M\n",
      "\tMotivo: Crediti Curriculari\n",
      "\tDa Remoto: False\n"
     ]
    }
   ],
   "source": [
    "view_students(registrations)"
   ]
  },
  {
   "cell_type": "code",
   "execution_count": 7,
   "metadata": {},
   "outputs": [
    {
     "name": "stdout",
     "output_type": "stream",
     "text": [
      "{'course': 'Cinema&Teatro', 'age': 20, 'sex': 'F', 'reason': 'Crediti Curriculari', 'from_remote': False}\n",
      "{'course': 'Yoga&Meditazione', 'age': 20, 'sex': 'F', 'reason': 'Interesse Lavorativo', 'from_remote': False}\n",
      "{'course': 'Economia Finanziaria', 'age': 17, 'sex': 'F', 'reason': 'Curiosità/Hobby', 'from_remote': False}\n",
      "{'course': 'Economia Finanziaria', 'age': 15, 'sex': 'F', 'reason': 'Altro', 'from_remote': False}\n",
      "{'course': 'Economia Finanziaria', 'age': 16, 'sex': 'M', 'reason': 'Altro', 'from_remote': True}\n",
      "{'course': 'Cinema&Teatro', 'age': 18, 'sex': 'M', 'reason': 'Crediti Curriculari', 'from_remote': False}\n",
      "{'course': 'Yoga&Meditazione', 'age': 17, 'sex': 'M', 'reason': 'Crediti Curriculari', 'from_remote': False}\n",
      "{'course': 'Cinema&Teatro', 'age': 15, 'sex': 'M', 'reason': 'Crediti Curriculari', 'from_remote': False}\n",
      "{'course': 'Data Analyst', 'age': 16, 'sex': 'F', 'reason': 'Curiosità/Hobby', 'from_remote': True}\n",
      "{'course': 'Data Analyst', 'age': 17, 'sex': 'M', 'reason': 'Crediti Curriculari', 'from_remote': False}\n"
     ]
    }
   ],
   "source": [
    "# compact display\n",
    "for student in registrations:\n",
    "    print(student)"
   ]
  },
  {
   "cell_type": "markdown",
   "metadata": {},
   "source": [
    "### Ricerca di elementi\n",
    "\n",
    "Cercare e visualizzare elementi dalla lista basandosi su uno o più attributi"
   ]
  },
  {
   "cell_type": "markdown",
   "metadata": {},
   "source": [
    "Di seguito vengono mostrati gli studenti per corso"
   ]
  },
  {
   "cell_type": "code",
   "execution_count": 8,
   "metadata": {},
   "outputs": [
    {
     "name": "stdout",
     "output_type": "stream",
     "text": [
      "list of students of the 'Data Analyst' course:\n",
      "{'course': 'Data Analyst', 'age': 16, 'sex': 'F', 'reason': 'Curiosità/Hobby', 'from_remote': True}\n",
      "{'course': 'Data Analyst', 'age': 17, 'sex': 'M', 'reason': 'Crediti Curriculari', 'from_remote': False}\n",
      "\n",
      "list of students of the 'Cinema&Teatro' course:\n",
      "{'course': 'Cinema&Teatro', 'age': 20, 'sex': 'F', 'reason': 'Crediti Curriculari', 'from_remote': False}\n",
      "{'course': 'Cinema&Teatro', 'age': 18, 'sex': 'M', 'reason': 'Crediti Curriculari', 'from_remote': False}\n",
      "{'course': 'Cinema&Teatro', 'age': 15, 'sex': 'M', 'reason': 'Crediti Curriculari', 'from_remote': False}\n",
      "\n",
      "list of students of the 'Economia Finanziaria' course:\n",
      "{'course': 'Economia Finanziaria', 'age': 17, 'sex': 'F', 'reason': 'Curiosità/Hobby', 'from_remote': False}\n",
      "{'course': 'Economia Finanziaria', 'age': 15, 'sex': 'F', 'reason': 'Altro', 'from_remote': False}\n",
      "{'course': 'Economia Finanziaria', 'age': 16, 'sex': 'M', 'reason': 'Altro', 'from_remote': True}\n",
      "\n",
      "list of students of the 'Yoga&Meditazione' course:\n",
      "{'course': 'Yoga&Meditazione', 'age': 20, 'sex': 'F', 'reason': 'Interesse Lavorativo', 'from_remote': False}\n",
      "{'course': 'Yoga&Meditazione', 'age': 17, 'sex': 'M', 'reason': 'Crediti Curriculari', 'from_remote': False}\n",
      "\n"
     ]
    }
   ],
   "source": [
    "for course in courses:\n",
    "    stud_per_course = [student for student in registrations if student['course'] == course]\n",
    "    \n",
    "    print (f\"list of students of the '{course}' course:\")\n",
    "    # Prints the students enrolled in the specific course\n",
    "    for student in stud_per_course:\n",
    "        print(student)\n",
    "    print()"
   ]
  },
  {
   "cell_type": "markdown",
   "metadata": {},
   "source": [
    "# Funzionalità aggiuntive"
   ]
  },
  {
   "cell_type": "markdown",
   "metadata": {},
   "source": [
    "### Statistiche sugli elementi\n",
    "\n",
    "Aggiungere una funzione che generi statistiche sugli elementi presenti nella collezione. Questa funzione può fornire insight utili come il conteggio totale degli elementi, la distribuzione degli elementi per una certa categoria o attributo (per esempio, quante destinazioni per ogni Paese nel caso del settore Travel), o anche trovare l'elemento più frequente/recente in base a un certo criterio."
   ]
  },
  {
   "cell_type": "markdown",
   "metadata": {},
   "source": [
    "- numero iscritti per corso e corso preferito\n",
    "- età media per ogni corso\n",
    "- presenza maschile e femminile per ogni corso\n",
    "- analisi delle adesioni ai corsi"
   ]
  },
  {
   "cell_type": "code",
   "execution_count": 9,
   "metadata": {},
   "outputs": [],
   "source": [
    "def nstudents_per_course():  \n",
    "    course_counts = {}\n",
    "\n",
    "    # Iterate through the recordings to update the counts\n",
    "    for registration in registrations:\n",
    "        course = registration['course']\n",
    "        if course in course_counts:\n",
    "            course_counts[course] += 1\n",
    "        else:\n",
    "            course_counts[course] = 1\n",
    "\n",
    "    # Print results\n",
    "    print(\"Numero di iscritti per corso:\")\n",
    "    for course, count in course_counts.items():\n",
    "        print(f\"{course}: {count}\")  "
   ]
  },
  {
   "cell_type": "code",
   "execution_count": 10,
   "metadata": {},
   "outputs": [],
   "source": [
    "def average_age():\n",
    "    course_counts = {}\n",
    "    course_age_sums = {}\n",
    "    \n",
    "    for registration in registrations:\n",
    "        course = registration['course']\n",
    "        age = registration['age']\n",
    "        if course in course_counts:\n",
    "            course_counts[course] += 1\n",
    "            course_age_sums[course] += age\n",
    "        else:\n",
    "            course_counts[course] = 1\n",
    "            course_age_sums[course] = age\n",
    "            \n",
    "    course_age_averages = {course: round(course_age_sums[course] / course_counts[course], 1) for course in course_counts}\n",
    "\n",
    "    print(\"Numero di iscritti per corso e età media:\")\n",
    "    for course in course_counts:\n",
    "        print(f\"{course}: {course_counts[course]} iscritti, età media: {course_age_averages[course]}\")"
   ]
  },
  {
   "cell_type": "code",
   "execution_count": 11,
   "metadata": {},
   "outputs": [],
   "source": [
    "def gender_presence():\n",
    "    course_gender_counts = {}\n",
    "    \n",
    "    for registration in registrations:\n",
    "        gender = registration['sex']\n",
    "        course = registration.get('course')\n",
    "        \n",
    "        # Update gender counts\n",
    "        if course not in course_gender_counts:\n",
    "            course_gender_counts[course] = {'M': 0, 'F': 0}\n",
    "        course_gender_counts[course][gender] += 1\n",
    "    \n",
    "    print(\"Numero di iscritti per presenza di genere:\")\n",
    "    for el in course_gender_counts: \n",
    "        \n",
    "        total_women = course_gender_counts.get(el).get('F')\n",
    "        total_men = course_gender_counts.get(el).get('M')\n",
    "        \n",
    "        f_percentage = round(total_women/(total_women + total_men), 1)\n",
    "        m_percentage = round(total_men/(total_women + total_men), 1)\n",
    "        \n",
    "        print(f\"course: {el}, gender distribution: {course_gender_counts.get(el)}, percentage women: {f_percentage}, percentage men: {m_percentage}\")"
   ]
  },
  {
   "cell_type": "code",
   "execution_count": 13,
   "metadata": {},
   "outputs": [],
   "source": [
    "def registration_statistics():\n",
    "    # total students enrolled per course\n",
    "    nstudents_per_course()\n",
    "    print()\n",
    "    \n",
    "    # average age per course\n",
    "    average_age()\n",
    "    print()\n",
    "    \n",
    "    # gender gap for each course\n",
    "    gender_presence()\n",
    "    print()\n",
    "    \n",
    "    # analysis of the reasons for enrolling in courses"
   ]
  },
  {
   "cell_type": "code",
   "execution_count": 14,
   "metadata": {},
   "outputs": [
    {
     "name": "stdout",
     "output_type": "stream",
     "text": [
      "Numero di iscritti per corso:\n",
      "Cinema&Teatro: 3\n",
      "Yoga&Meditazione: 2\n",
      "Economia Finanziaria: 3\n",
      "Data Analyst: 2\n",
      "\n",
      "Numero di iscritti per corso e età media:\n",
      "Cinema&Teatro: 3 iscritti, età media: 17.7\n",
      "Yoga&Meditazione: 2 iscritti, età media: 18.5\n",
      "Economia Finanziaria: 3 iscritti, età media: 16.0\n",
      "Data Analyst: 2 iscritti, età media: 16.5\n",
      "\n",
      "Numero di iscritti per presenza di genere:\n",
      "course: Cinema&Teatro, gender distribution: {'M': 2, 'F': 1}, percentage women: 0.3333333333333333, percentage men: 0.6666666666666666\n",
      "course: Yoga&Meditazione, gender distribution: {'M': 1, 'F': 1}, percentage women: 0.5, percentage men: 0.5\n",
      "course: Economia Finanziaria, gender distribution: {'M': 1, 'F': 2}, percentage women: 0.6666666666666666, percentage men: 0.3333333333333333\n",
      "course: Data Analyst, gender distribution: {'M': 1, 'F': 1}, percentage women: 0.5, percentage men: 0.5\n",
      "\n"
     ]
    }
   ],
   "source": [
    "registration_statistics()"
   ]
  },
  {
   "cell_type": "markdown",
   "metadata": {},
   "source": [
    "### Filtraggio avanzato\n",
    "\n",
    "estendere la funzione di ricerca per supportare il filtraggio avanzato. Questo permetterà agli utenti di specificare criteri di filtraggio più complessi, come cercare tutti gli elementi che soddisfano condizioni multiple simultaneamente (per esempio, in un insieme di ricette, trovare tutte le ricette che richiedono meno di 30 minuti e contengono un certo ingrediente)"
   ]
  },
  {
   "cell_type": "markdown",
   "metadata": {},
   "source": [
    "Per permettere la miglior gestione degli ambienti, vengono selezionati tutti gli studenti per ciascun corso che seguiranno il corso fisicamente e non online."
   ]
  },
  {
   "cell_type": "code",
   "execution_count": 15,
   "metadata": {},
   "outputs": [
    {
     "data": {
      "text/plain": [
       "{'course': 'Yoga&Meditazione',\n",
       " 'age': 20,\n",
       " 'sex': 'F',\n",
       " 'reason': 'Interesse Lavorativo',\n",
       " 'from_remote': False}"
      ]
     },
     "execution_count": 15,
     "metadata": {},
     "output_type": "execute_result"
    }
   ],
   "source": [
    "registrations[1]"
   ]
  },
  {
   "cell_type": "code",
   "execution_count": 16,
   "metadata": {},
   "outputs": [
    {
     "name": "stdout",
     "output_type": "stream",
     "text": [
      "Studenti che partecipano fisicamente per corso:\n",
      "\n",
      "\n",
      "Corso: Cinema&Teatro\tTot:3\n",
      "  Età: 20, Sesso: F, Motivo: Crediti Curriculari\n",
      "  Età: 18, Sesso: M, Motivo: Crediti Curriculari\n",
      "  Età: 15, Sesso: M, Motivo: Crediti Curriculari\n",
      "\n",
      "\n",
      "Corso: Yoga&Meditazione\tTot:2\n",
      "  Età: 20, Sesso: F, Motivo: Interesse Lavorativo\n",
      "  Età: 17, Sesso: M, Motivo: Crediti Curriculari\n",
      "\n",
      "\n",
      "Corso: Economia Finanziaria\tTot:2\n",
      "  Età: 17, Sesso: F, Motivo: Curiosità/Hobby\n",
      "  Età: 15, Sesso: F, Motivo: Altro\n",
      "\n",
      "\n",
      "Corso: Data Analyst\tTot:1\n",
      "  Età: 17, Sesso: M, Motivo: Crediti Curriculari\n"
     ]
    }
   ],
   "source": [
    "def get_physical_students():\n",
    "    physical_students_by_course = {}\n",
    "\n",
    "    # Iterare attraverso le registrazioni\n",
    "    for registration in registrations:\n",
    "        course = registration['course']\n",
    "        if not registration['from_remote']:  # Se lo studente segue fisicamente\n",
    "            if course not in physical_students_by_course:\n",
    "                physical_students_by_course[course] = []\n",
    "            physical_students_by_course[course].append(registration)\n",
    "\n",
    "    # Stampare i risultati\n",
    "    print(\"Studenti che partecipano fisicamente per corso:\")\n",
    "    \n",
    "    for course, students in physical_students_by_course.items():\n",
    "        print()\n",
    "        print(f\"\\nCorso: {course}\\tTot:{len(physical_students_by_course[course])}\")\n",
    "        for student in students:\n",
    "            print(f\"  Età: {student['age']}, Sesso: {student['sex']}, Motivo: {student['reason']}\")\n",
    "\n",
    "# Chiamare la funzione per mostrare i risultati\n",
    "get_physical_students()"
   ]
  }
 ],
 "metadata": {
  "kernelspec": {
   "display_name": "venv",
   "language": "python",
   "name": "python3"
  },
  "language_info": {
   "codemirror_mode": {
    "name": "ipython",
    "version": 3
   },
   "file_extension": ".py",
   "mimetype": "text/x-python",
   "name": "python",
   "nbconvert_exporter": "python",
   "pygments_lexer": "ipython3",
   "version": "3.12.3"
  }
 },
 "nbformat": 4,
 "nbformat_minor": 2
}
